{
 "cells": [
  {
   "cell_type": "code",
   "execution_count": 1,
   "id": "6d7f652e",
   "metadata": {},
   "outputs": [
    {
     "name": "stdout",
     "output_type": "stream",
     "text": [
      "Requirement already satisfied: requests in c:\\users\\siddh\\anaconda3\\lib\\site-packages (2.27.1)\n",
      "Requirement already satisfied: idna<4,>=2.5 in c:\\users\\siddh\\anaconda3\\lib\\site-packages (from requests) (3.3)\n",
      "Requirement already satisfied: certifi>=2017.4.17 in c:\\users\\siddh\\anaconda3\\lib\\site-packages (from requests) (2023.5.7)\n",
      "Requirement already satisfied: charset-normalizer~=2.0.0 in c:\\users\\siddh\\anaconda3\\lib\\site-packages (from requests) (2.0.4)\n",
      "Requirement already satisfied: urllib3<1.27,>=1.21.1 in c:\\users\\siddh\\anaconda3\\lib\\site-packages (from requests) (1.26.9)\n",
      "Note: you may need to restart the kernel to use updated packages.\n"
     ]
    }
   ],
   "source": [
    "pip install requests"
   ]
  },
  {
   "cell_type": "code",
   "execution_count": 2,
   "id": "4e10796c",
   "metadata": {},
   "outputs": [],
   "source": [
    "import requests"
   ]
  },
  {
   "cell_type": "code",
   "execution_count": 11,
   "id": "2ab8ff46",
   "metadata": {},
   "outputs": [
    {
     "name": "stdout",
     "output_type": "stream",
     "text": [
      "Enter the name of the city: delhi\n",
      "Temperature: 14.05°C\n",
      "Humidity: 67%\n",
      "Weather description: Haze\n"
     ]
    }
   ],
   "source": [
    "import requests\n",
    "import json\n",
    " \n",
    "API_KEY = '2d1fab6371b4e5082e8819533ff8b6e3'\n",
    " \n",
    "def fetch_weather_data(city):\n",
    "    base_url = 'http://api.openweathermap.org/data/2.5/weather?'\n",
    "    complete_url = f\"{base_url}appid={API_KEY}&q={city}\"\n",
    "    response = requests.get(complete_url)\n",
    "    return response.json()\n",
    " \n",
    "def display_weather_data(weather_data):\n",
    "    if weather_data['cod'] != '404':\n",
    "        main_data = weather_data['main']\n",
    "        # Convert from Kelvin to Celsius\n",
    "        humidity = main_data['humidity']\n",
    "        temperature = main_data['temp'] - 273.15 \n",
    "        weather_description = weather_data['weather'][0]['description']\n",
    " \n",
    "        print(f\"Temperature: {temperature:.2f}°C\")\n",
    "        print(f\"Humidity: {humidity}%\")\n",
    "        print(f\"Weather description: {weather_description.capitalize()}\")\n",
    " \n",
    "    else:\n",
    "        print(\"City not found. Please try again.\")\n",
    " \n",
    "def main():\n",
    "    city = input(\"Enter the name of the city: \")\n",
    "    weather_data = fetch_weather_data(city)\n",
    "    display_weather_data(weather_data)\n",
    " \n",
    "if __name__ == \"__main__\":\n",
    "    main()"
   ]
  },
  {
   "cell_type": "code",
   "execution_count": null,
   "id": "071b9a8e",
   "metadata": {},
   "outputs": [],
   "source": []
  }
 ],
 "metadata": {
  "kernelspec": {
   "display_name": "Python 3 (ipykernel)",
   "language": "python",
   "name": "python3"
  },
  "language_info": {
   "codemirror_mode": {
    "name": "ipython",
    "version": 3
   },
   "file_extension": ".py",
   "mimetype": "text/x-python",
   "name": "python",
   "nbconvert_exporter": "python",
   "pygments_lexer": "ipython3",
   "version": "3.9.12"
  }
 },
 "nbformat": 4,
 "nbformat_minor": 5
}
