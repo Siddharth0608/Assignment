{
 "cells": [
  {
   "cell_type": "code",
   "execution_count": 3,
   "id": "8f86267a",
   "metadata": {},
   "outputs": [
    {
     "name": "stdout",
     "output_type": "stream",
     "text": [
      "Requirement already satisfied: chatterbot in c:\\users\\siddh\\anaconda3\\lib\\site-packages (1.0.4)Note: you may need to restart the kernel to use updated packages.\n",
      "Requirement already satisfied: python-dateutil<2.8,>=2.7 in c:\\users\\siddh\\anaconda3\\lib\\site-packages (from chatterbot) (2.7.5)\n",
      "Requirement already satisfied: mathparse<0.2,>=0.1 in c:\\users\\siddh\\anaconda3\\lib\\site-packages (from chatterbot) (0.1.2)\n",
      "Requirement already satisfied: sqlalchemy<1.3,>=1.2 in c:\\users\\siddh\\anaconda3\\lib\\site-packages (from chatterbot) (1.2.19)\n",
      "Requirement already satisfied: chatterbot-corpus<1.3,>=1.2 in c:\\users\\siddh\\anaconda3\\lib\\site-packages (from chatterbot) (1.2.0)\n",
      "Requirement already satisfied: pymongo<4.0,>=3.3 in c:\\users\\siddh\\anaconda3\\lib\\site-packages (from chatterbot) (3.13.0)\n",
      "Requirement already satisfied: pint>=0.8.1 in c:\\users\\siddh\\anaconda3\\lib\\site-packages (from chatterbot) (0.23)\n",
      "Requirement already satisfied: nltk<4.0,>=3.2 in c:\\users\\siddh\\anaconda3\\lib\\site-packages (from chatterbot) (3.7)\n",
      "Requirement already satisfied: PyYAML<4.0,>=3.12 in c:\\users\\siddh\\anaconda3\\lib\\site-packages (from chatterbot-corpus<1.3,>=1.2->chatterbot) (3.13)\n",
      "Requirement already satisfied: tqdm in c:\\users\\siddh\\anaconda3\\lib\\site-packages (from nltk<4.0,>=3.2->chatterbot) (4.64.0)\n",
      "Requirement already satisfied: joblib in c:\\users\\siddh\\anaconda3\\lib\\site-packages (from nltk<4.0,>=3.2->chatterbot) (1.1.0)\n",
      "Requirement already satisfied: regex>=2021.8.3 in c:\\users\\siddh\\anaconda3\\lib\\site-packages (from nltk<4.0,>=3.2->chatterbot) (2022.3.15)\n",
      "Requirement already satisfied: click in c:\\users\\siddh\\anaconda3\\lib\\site-packages (from nltk<4.0,>=3.2->chatterbot) (8.0.4)\n",
      "Requirement already satisfied: typing-extensions in c:\\users\\siddh\\anaconda3\\lib\\site-packages (from pint>=0.8.1->chatterbot) (4.7.1)\n",
      "Requirement already satisfied: six>=1.5 in c:\\users\\siddh\\anaconda3\\lib\\site-packages (from python-dateutil<2.8,>=2.7->chatterbot) (1.16.0)\n",
      "Requirement already satisfied: colorama in c:\\users\\siddh\\anaconda3\\lib\\site-packages (from click->nltk<4.0,>=3.2->chatterbot) (0.4.6)\n",
      "\n"
     ]
    }
   ],
   "source": [
    "pip install chatterbot"
   ]
  },
  {
   "cell_type": "code",
   "execution_count": 8,
   "id": "1b1eb21b",
   "metadata": {},
   "outputs": [
    {
     "name": "stdout",
     "output_type": "stream",
     "text": [
      "Requirement already satisfied: chatterbot_corpus in c:\\users\\siddh\\anaconda3\\lib\\site-packages (1.2.0)\n",
      "Requirement already satisfied: PyYAML<4.0,>=3.12 in c:\\users\\siddh\\anaconda3\\lib\\site-packages (from chatterbot_corpus) (3.13)\n",
      "Note: you may need to restart the kernel to use updated packages.\n"
     ]
    }
   ],
   "source": [
    "pip install chatterbot_corpus"
   ]
  },
  {
   "cell_type": "code",
   "execution_count": 27,
   "id": "23ec0f91",
   "metadata": {},
   "outputs": [
    {
     "name": "stderr",
     "output_type": "stream",
     "text": [
      "[nltk_data] Downloading package averaged_perceptron_tagger to\n",
      "[nltk_data]     C:\\Users\\siddh\\AppData\\Roaming\\nltk_data...\n",
      "[nltk_data]   Package averaged_perceptron_tagger is already up-to-\n",
      "[nltk_data]       date!\n",
      "[nltk_data] Downloading package punkt to\n",
      "[nltk_data]     C:\\Users\\siddh\\AppData\\Roaming\\nltk_data...\n",
      "[nltk_data]   Package punkt is already up-to-date!\n",
      "[nltk_data] Downloading package stopwords to\n",
      "[nltk_data]     C:\\Users\\siddh\\AppData\\Roaming\\nltk_data...\n",
      "[nltk_data]   Package stopwords is already up-to-date!\n"
     ]
    }
   ],
   "source": [
    "chatbot = ChatBot('MyChatBot')\n"
   ]
  },
  {
   "cell_type": "code",
   "execution_count": 28,
   "id": "735976c3",
   "metadata": {},
   "outputs": [],
   "source": [
    "import chatterbot_corpus\n",
    "from chatterbot.trainers import ChatterBotCorpusTrainer"
   ]
  },
  {
   "cell_type": "code",
   "execution_count": 29,
   "id": "43c80795",
   "metadata": {},
   "outputs": [
    {
     "name": "stdout",
     "output_type": "stream",
     "text": [
      "Training ai.yml: [####################] 100%\n",
      "Training botprofile.yml: [####################] 100%\n",
      "Training computers.yml: [####################] 100%\n",
      "Training conversations.yml: [####################] 100%\n",
      "Training emotion.yml: [####################] 100%\n",
      "Training food.yml: [####################] 100%\n",
      "Training gossip.yml: [####################] 100%\n",
      "Training greetings.yml: [####################] 100%\n",
      "Training health.yml: [####################] 100%\n",
      "Training history.yml: [####################] 100%\n",
      "Training humor.yml: [####################] 100%\n",
      "Training literature.yml: [####################] 100%\n",
      "Training money.yml: [####################] 100%\n",
      "Training movies.yml: [####################] 100%\n",
      "Training politics.yml: [####################] 100%\n",
      "Training psychology.yml: [####################] 100%\n",
      "Training science.yml: [####################] 100%\n",
      "Training sports.yml: [####################] 100%\n",
      "Training trivia.yml: [####################] 100%\n"
     ]
    }
   ],
   "source": [
    "trainer = ChatterBotCorpusTrainer(chatbot)\n",
    "trainer.train(\"chatterbot.corpus.english\")\n"
   ]
  },
  {
   "cell_type": "code",
   "execution_count": 30,
   "id": "323f90cf",
   "metadata": {},
   "outputs": [
    {
     "name": "stdout",
     "output_type": "stream",
     "text": [
      "Hi\n"
     ]
    }
   ],
   "source": [
    "response = chatbot.get_response(\"Hello\")\n",
    "print(response)\n"
   ]
  },
  {
   "cell_type": "code",
   "execution_count": 32,
   "id": "95f7d88b",
   "metadata": {},
   "outputs": [
    {
     "name": "stdout",
     "output_type": "stream",
     "text": [
      "Press any key to talk to chatbot and enter 'quit' to exit \n",
      "d4454\n",
      "Type here to talk to chatbot\n",
      "hi\n",
      "How are you doing?\n",
      "Enter 'quit' to exit or any other key to continue\n",
      "quit\n"
     ]
    }
   ],
   "source": [
    "inp = input(\"Press any key to talk to chatbot and enter 'quit' to exit \\n\")\n",
    "while(inp != \"quit\"):\n",
    "    ques = input(\"Type here to talk to chatbot\\n\")\n",
    "    print(chatbot.get_response(ques))\n",
    "    inp = input(\"Enter 'quit' to exit or any other key to continue\\n\")"
   ]
  },
  {
   "cell_type": "code",
   "execution_count": null,
   "id": "d2d1f469",
   "metadata": {},
   "outputs": [],
   "source": []
  }
 ],
 "metadata": {
  "kernelspec": {
   "display_name": "Python 3 (ipykernel)",
   "language": "python",
   "name": "python3"
  },
  "language_info": {
   "codemirror_mode": {
    "name": "ipython",
    "version": 3
   },
   "file_extension": ".py",
   "mimetype": "text/x-python",
   "name": "python",
   "nbconvert_exporter": "python",
   "pygments_lexer": "ipython3",
   "version": "3.9.12"
  }
 },
 "nbformat": 4,
 "nbformat_minor": 5
}
